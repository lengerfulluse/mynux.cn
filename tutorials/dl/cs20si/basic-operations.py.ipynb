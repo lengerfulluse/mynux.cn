{
 "cells": [
  {
   "cell_type": "code",
   "execution_count": 39,
   "metadata": {},
   "outputs": [
    {
     "name": "stdout",
     "output_type": "stream",
     "text": [
      "[6 8]\n"
     ]
    }
   ],
   "source": [
    "import tensorflow as tf\n",
    "import matplotlib.pyplot as plt\n",
    "\n",
    "a = tf.constant([2, 3], name=\"a-vector\")\n",
    "b = tf.constant([4, 5], name=\"b-vector\")\n",
    "x = tf.add(a, b, name=\"add-vector\")\n",
    "with tf.Session() as sess:\n",
    "    writer = tf.summary.FileWriter('./graphs', sess.graph)\n",
    "    print sess.run(x)\n",
    "\n",
    "writer.close()\n",
    "\n",
    "# try tensorboard with command:\n",
    "# $ tensorboard --logdir=\"graphs\""
   ]
  },
  {
   "cell_type": "code",
   "execution_count": 66,
   "metadata": {},
   "outputs": [
    {
     "name": "stdout",
     "output_type": "stream",
     "text": [
      "[[0 0 0]\n",
      " [0 0 0]]\n",
      "[[8 9]\n",
      " [1 2]]\n",
      "[[ 10.  10.]]\n"
     ]
    },
    {
     "data": {
      "image/png": "[encoded data removed]",
      "text/plain": [
       "<matplotlib.figure.Figure at 0x11db8f550>"
      ]
     },
     "metadata": {},
     "output_type": "display_data"
    }
   ],
   "source": [
    "# basic tensorflow constants, types\n",
    "zeros = tf.zeros([2, 3], tf.int32) \n",
    "two_dim_tensor = tf.constant([[2, 1], [3, 5]], name = \"2d-tensor\")\n",
    "zeros_like = tf.zeros_like(two_dim_tensor)\n",
    "ones = tf.ones([3, 3], tf.float32)\n",
    "ones_like = tf.ones_like(two_dim_tensor)\n",
    "\n",
    "\n",
    "\n",
    "# sequence data generation\n",
    "linspace = tf.linspace(10.0, 14.0, 3);\n",
    "limit = tf.range(2, 10, 3);\n",
    "\n",
    "with tf.Session() as sess:\n",
    "    print sess.run(zeros)\n",
    "    \n",
    "# generate random data according to some distribution\n",
    "%matplotlib inline  \n",
    "\n",
    "n = 500000\n",
    "A = tf.truncated_normal((n,))\n",
    "B = tf.random_normal((n,))\n",
    "with tf.Session() as sess:\n",
    "    a, b = sess.run([A, B])\n",
    "\n",
    "# plot normal distriution and truncated normal distribution in the same graph.\n",
    "plt.subplot(3,2,1);\n",
    "plt.hist(a, 100, (-4.2, 4.2));\n",
    "plt.subplot(3,2,2);\n",
    "plt.hist(b, 100, (-4.2, 4.2));\n",
    "\n",
    "# random uniform distribution\n",
    "rand_t = tf.random_uniform([5], 0, 10, dtype=tf.int32, seed=0)\n",
    "with tf.Session() as sess:\n",
    "    t = sess.run(rand_t);\n",
    "    \n",
    "plt.subplot(3, 2, 3);\n",
    "plt.plot(t);\n",
    "\n",
    "# random shuffle plot\n",
    "f_sequence = tf.range(1, 10);\n",
    "f_shuffle = tf.random_shuffle(f_sequence)\n",
    "with tf.Session() as sess:\n",
    "    f_s = sess.run(f_shuffle);\n",
    "    \n",
    "plt.subplot(3, 2, 4);\n",
    "plt.plot(f_s);\n",
    "\n",
    "# random crop \n",
    "c_crop_before = tf.constant(([[3, 4, 5], [7, 8, 9], [0, 1, 2]]), name=\"before-crop\");\n",
    "c_crop_after = tf.random_crop(c_crop_before, [2, 2], name=\"after-crop\");\n",
    "with tf.Session() as sess:\n",
    "    c_crop_plot = sess.run(c_crop_after)\n",
    "    print c_crop_plot\n",
    "    \n",
    "    \n",
    "# multinomial\n",
    "\n",
    "multi_samples = tf.constant([[10., 10.]]);\n",
    "multi_before = tf.multinomial(tf.log(multi_samples), 5)\n",
    "with tf.Session() as sess:\n",
    "    print sess.run(multi_samples)\n"
   ]
  },
  {
   "cell_type": "code",
   "execution_count": 73,
   "metadata": {},
   "outputs": [
    {
     "name": "stdout",
     "output_type": "stream",
     "text": [
      "[[ 2.30258512  2.30258512  4.60517025]]\n",
      "[[2 2 2 1 2]]\n"
     ]
    }
   ],
   "source": [
    "# multinomial\n",
    "multi_samples = tf.log([[10., 10., 10.]]);\n",
    "multi_before = tf.multinomial(multi_samples, 5)\n",
    "with tf.Session() as sess:\n",
    "    print sess.run(multi_samples)\n",
    "    print sess.run(multi_before)"
   ]
  },
  {
   "cell_type": "code",
   "execution_count": null,
   "metadata": {},
   "outputs": [],
   "source": []
  }
 ],
 "metadata": {
  "kernelspec": {
   "display_name": "Python 2",
   "language": "python",
   "name": "python2"
  },
  "language_info": {
   "codemirror_mode": {
    "name": "ipython",
    "version": 2
   },
   "file_extension": ".py",
   "mimetype": "text/x-python",
   "name": "python",
   "nbconvert_exporter": "python",
   "pygments_lexer": "ipython2",
   "version": "2.7.10"
  }
 },
 "nbformat": 4,
 "nbformat_minor": 2
}
