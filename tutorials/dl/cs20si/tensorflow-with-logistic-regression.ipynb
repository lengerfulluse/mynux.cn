{
 "cells": [
  {
   "cell_type": "code",
   "execution_count": 1,
   "metadata": {},
   "outputs": [
    {
     "name": "stdout",
     "output_type": "stream",
     "text": [
      "Extracting data/mnist/train-images-idx3-ubyte.gz\n",
      "Extracting data/mnist/train-labels-idx1-ubyte.gz\n",
      "Extracting data/mnist/t10k-images-idx3-ubyte.gz\n",
      "Extracting data/mnist/t10k-labels-idx1-ubyte.gz\n"
     ]
    }
   ],
   "source": [
    "import tensorflow as tf\n",
    "from tensorflow.examples.tutorials.mnist import input_data\n",
    "\n",
    "# reset everything to rerun in jupyter\n",
    "tf.reset_default_graph()\n",
    "tf.summary.FileWriterCache.clear()\n",
    "\n",
    "# read data request timeout, could download to localhost first.\n",
    "mnist = input_data.read_data_sets(\"data/mnist\", one_hot=True)\n",
    "\n",
    "learning_rate = 0.01\n",
    "batch_size = 128\n",
    "n_epoches = 25\n",
    "\n",
    "# input name space for tensorboard.\n",
    "with tf.name_scope('input'):\n",
    "    X = tf.placeholder(tf.float32, [batch_size, 784], name=\"image\")\n",
    "    Y = tf.placeholder(tf.float32, [batch_size, 10], name=\"label\")\n",
    "    image_shaped_input = tf.reshape(X, [-1, 28, 28, 1])\n",
    "    tf.summary.image('input', image_shaped_input, 10)\n",
    "\n",
    "# train variables name space.\n",
    "with tf.name_scope('weight'):\n",
    "    w = tf.Variable(tf.random_normal(shape=[784, 10], stddev=0.01), name=\"weight\")\n",
    "    \n",
    "with tf.name_scope('bias'):\n",
    "    b = tf.Variable(tf.zeros([1, 10]), name=\"bias\")\n",
    "\n",
    "with tf.name_scope('logits'):\n",
    "    logits = tf.matmul(X, w) + b\n",
    "\n",
    "# use softmax cross entropy with logits as the loss function\n",
    "# compute the mean cross entropy, softmax is applied internally.\n",
    "with tf.name_scope('entropy'):\n",
    "    entropy = tf.nn.softmax_cross_entropy_with_logits(logits=logits, labels=Y)\n",
    "# computes the mean over examples in the batch\n",
    "\n",
    "with tf.name_scope('loss'):\n",
    "    loss = tf.reduce_mean(entropy)\n",
    "    \n",
    "# can move accuracy into defintion, and put into optimizer in sess.run then.\n",
    "with tf.name_scope('predict'):\n",
    "    correct_preds = tf.equal(tf.argmax(logits, 1), tf.argmax(Y, 1))\n",
    "    accuracy = tf.reduce_mean(tf.cast(correct_preds, tf.float32))\n",
    "\n",
    "optimizer = tf.train.GradientDescentOptimizer(learning_rate=learning_rate).minimize(loss)\n",
    "\n",
    "# scalar for tensorboard.\n",
    "tf.summary.scalar(\"cost\", loss)\n",
    "tf.summary.scalar('accuracy', accuracy)\n",
    "\n",
    "summary_op = tf.summary.merge_all()\n",
    "\n",
    "init = tf.global_variables_initializer()\n",
    "\n",
    "with tf.Session() as sess:\n",
    "    writer = tf.summary.FileWriter('./graphs', sess.graph)\n",
    "    sess.run(init)\n",
    "    # training the batch\n",
    "    n_batches = int(mnist.train.num_examples/batch_size)\n",
    "    for i in range(n_epoches):\n",
    "        avg_cost = 0.\n",
    "        for _ in range(n_batches):\n",
    "            X_batch, Y_batch = mnist.train.next_batch(batch_size)\n",
    "            _, l, summary = sess.run([optimizer, loss, summary_op], feed_dict={X: X_batch, Y:Y_batch})\n",
    "            \n",
    "            # Compute average loss\n",
    "            avg_cost += l / n_batches\n",
    "            \n",
    "            # write log\n",
    "            writer.add_summary(summary, n_epoches * n_batches + i)\n",
    "\n",
    "    # testing the model\n",
    "    n_batches = int(mnist.test.num_examples/batch_size)\n",
    "    for i in range(n_batches):\n",
    "        X_batch, Y_batch = mnist.test.next_batch(batch_size)\n",
    "        _, acc, summary = sess.run([optimizer, accuracy, summary_op], feed_dict={X: X_batch, Y: Y_batch})\n",
    "        # write log\n",
    "        writer.add_summary(summary, n_epoches * n_batches + i)\n",
    "    "
   ]
  },
  {
   "cell_type": "code",
   "execution_count": null,
   "metadata": {},
   "outputs": [
    {
     "name": "stdout",
     "output_type": "stream",
     "text": [
      "Extracting data/mnist/train-images-idx3-ubyte.gz\n",
      "Extracting data/mnist/train-labels-idx1-ubyte.gz\n",
      "Extracting data/mnist/t10k-images-idx3-ubyte.gz\n",
      "Extracting data/mnist/t10k-labels-idx1-ubyte.gz\n"
     ]
    }
   ],
   "source": [
    "import tensorflow as tf\n",
    "from tensorflow.examples.tutorials.mnist import input_data\n",
    "import numpy as np\n",
    "from matplotlib import pyplot as plt\n",
    "\n",
    "# read data request timeout, could download to localhost first.\n",
    "mnist = input_data.read_data_sets(\"data/mnist\", one_hot=True)\n",
    "first_image = mnist.test.images[0]\n",
    "first_image = np.array(first_image, dtype='float')\n",
    "pixels = first_image.reshape([28, 28])\n",
    "plt.imshow(pixels, cmap=plt.get_cmap('gray_r'))\n",
    "plt.show()\n"
   ]
  },
  {
   "cell_type": "code",
   "execution_count": null,
   "metadata": {},
   "outputs": [],
   "source": []
  }
 ],
 "metadata": {
  "kernelspec": {
   "display_name": "Python 2",
   "language": "python",
   "name": "python2"
  },
  "language_info": {
   "codemirror_mode": {
    "name": "ipython",
    "version": 2
   },
   "file_extension": ".py",
   "mimetype": "text/x-python",
   "name": "python",
   "nbconvert_exporter": "python",
   "pygments_lexer": "ipython2",
   "version": "2.7.10"
  }
 },
 "nbformat": 4,
 "nbformat_minor": 2
}
