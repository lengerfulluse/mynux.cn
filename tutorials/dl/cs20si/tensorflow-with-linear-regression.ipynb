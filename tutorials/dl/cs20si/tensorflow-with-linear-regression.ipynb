{
 "cells": [
  {
   "cell_type": "code",
   "execution_count": 5,
   "metadata": {},
   "outputs": [
    {
     "name": "stdout",
     "output_type": "stream",
     "text": [
      "1.84595 3.5374\n"
     ]
    },
    {
     "data": {
      "image/png": "[encoded data removed]",
      "text/plain": [
       "<matplotlib.figure.Figure at 0x115db7590>"
      ]
     },
     "metadata": {},
     "output_type": "display_data"
    }
   ],
   "source": [
    "import tensorflow as tf\n",
    "import numpy as np\n",
    "import matplotlib.pyplot as plt\n",
    "import xlrd\n",
    "\n",
    "%matplotlib inline\n",
    "\n",
    "# local data file directory\n",
    "DATA_FILE = \"data/fire_theft.xls\"\n",
    "\n",
    "# STEP 0: read in data from xls file\n",
    "book = xlrd.open_workbook(DATA_FILE, encoding_override=\"utf-8\")\n",
    "sheet = book.sheet_by_index(0)\n",
    "lst = [sheet.row_values(i) for i in range(1, sheet.nrows)]\n",
    "data = np.asarray(lst)\n",
    "n_samples = sheet.nrows - 1\n",
    "\n",
    "# STEP: 1: plot the data \n",
    "X_axis, Y_axis = data.T[0], data.T[1]\n",
    "plt.plot(X_axis, Y_axis, 'bo', label='Real data')\n",
    "\n",
    "    \n",
    "# STEP 2: create placeholder for input X(number of fire) and label Y(number of theft)\n",
    "X = tf.placeholder(tf.float32, name=\"X\")\n",
    "Y = tf.placeholder(tf.float32, name=\"Y\")\n",
    "\n",
    "# STEP 3: create Variables(weight and bias here), initialize to 0.\n",
    "w = tf.Variable(0.0, name=\"weight\")\n",
    "b = tf.Variable(0.0, name=\"bias\")\n",
    "\n",
    "# STEP 4: construct model to predict Y\n",
    "Y_Predict = X * w + b\n",
    "\n",
    "# STEP 5: define loss function(use square error here)\n",
    "loss = tf.losses.huber_loss(Y, Y_Predict)\n",
    "#loss = tf.square(Y - Y_Predict, name=\"loss\")\n",
    "\n",
    "# STEP 6: define optimizer(here we use Gradient Descent with learning rate of 0.001)\n",
    "optimizer = tf.train.GradientDescentOptimizer(learning_rate=0.001).minimize(loss)\n",
    "\n",
    "# define the epoch\n",
    "epoch = 200\n",
    "init = tf.initialize_all_variables()\n",
    "# execute the model\n",
    "with tf.Session() as sess:\n",
    "    # STEP 7: initailize the necessary variable, in this case w and b.\n",
    "    sess.run(init)\n",
    "    \n",
    "    # STEP 8: traning the model\n",
    "    for i in range(epoch):\n",
    "        for x, y in data:\n",
    "            sess.run(optimizer, feed_dict={X: x, Y: y})\n",
    "                \n",
    "    # STEP 9: output the values of w and b.\n",
    "    w_value, b_value = sess.run([w, b])\n",
    "\n",
    "print w_value, b_value\n",
    "\n",
    "# plot the predict line.\n",
    "plt.plot(Y_axis, Y_axis * w_value + b_value, 'r', label='Predicted data')\n",
    "plt.ylim([0, 150])\n",
    "plt.xlim([0, 45])\n",
    "plt.legend()\n",
    "plt.show()"
   ]
  },
  {
   "cell_type": "markdown",
   "metadata": {},
   "source": [
    "The most important thing when do the linear regression is to plot your data, and to decide whether it's proper to use the linear regression model. For the above example, the plot data point may not fit well for any linear model.\n",
    "\n",
    "Let's move to another example of dummy data. It looks pretty promising : )"
   ]
  },
  {
   "cell_type": "code",
   "execution_count": 10,
   "metadata": {},
   "outputs": [
    {
     "name": "stdout",
     "output_type": "stream",
     "text": [
      "2.97766 -0.094277\n"
     ]
    },
    {
     "data": {
      "image/png": "[encoded data removed]",
      "text/plain": [
       "<matplotlib.figure.Figure at 0x106a39810>"
      ]
     },
     "metadata": {},
     "output_type": "display_data"
    }
   ],
   "source": [
    "import tensorflow as tf;\n",
    "import numpy as np\n",
    "import matplotlib.pyplot as plt\n",
    "\n",
    "%matplotlib inline\n",
    "\n",
    "# each value y is approximately linear but with some random noise.\n",
    "X_input = np.linspace(-1, 1, 100)\n",
    "Y_input = X_input * 3 + np.random.randn(X_input.shape[0]) * 0.5\n",
    "plt.plot(X_input, Y_input, 'bo', label='Real data')\n",
    "\n",
    "\n",
    "# STEP 2: create placeholder for input X(number of fire) and label Y(number of theft)\n",
    "X = tf.placeholder(tf.float32, name=\"X\")\n",
    "Y = tf.placeholder(tf.float32, name=\"Y\")\n",
    "\n",
    "# STEP 3: create Variables(weight and bias here), initialize to 0.\n",
    "w = tf.Variable(0.0, name=\"weight\")\n",
    "b = tf.Variable(0.0, name=\"bias\")\n",
    "\n",
    "# STEP 4: construct model to predict Y\n",
    "Y_Predict = X * w + b\n",
    "\n",
    "# STEP 5: define loss function(use square error here)\n",
    "loss = tf.square(Y - Y_Predict, name=\"loss\")\n",
    "\n",
    "# STEP 6: define optimizer(here we use Gradient Descent with learning rate of 0.001)\n",
    "optimizer = tf.train.GradientDescentOptimizer(learning_rate=0.001).minimize(loss)\n",
    "\n",
    "# define the epoch\n",
    "epoch = 100\n",
    "init = tf.global_variables_initializer()\n",
    "# execute the model\n",
    "with tf.Session() as sess:\n",
    "    # STEP 7: initailize the necessary variable, in this case w and b.\n",
    "    sess.run(init)\n",
    "    \n",
    "    # STEP 8: traning the model\n",
    "    for i in range(epoch):\n",
    "            sess.run(optimizer, feed_dict={X: X_input, Y: Y_input})\n",
    "                \n",
    "    # STEP 9: output the values of w and b.\n",
    "    w_value, b_value = sess.run([w, b])\n",
    "\n",
    "print w_value, b_value\n",
    "\n",
    "# plot the predict line.\n",
    "plt.plot(Y_input, Y_input * w_value + b_value, 'r', label='Predicted data')\n",
    "plt.ylim([-4,4])\n",
    "plt.xlim([-1, 1])\n",
    "plt.legend()\n",
    "plt.show()\n"
   ]
  },
  {
   "cell_type": "code",
   "execution_count": null,
   "metadata": {},
   "outputs": [],
   "source": []
  }
 ],
 "metadata": {
  "kernelspec": {
   "display_name": "Python 2",
   "language": "python",
   "name": "python2"
  },
  "language_info": {
   "codemirror_mode": {
    "name": "ipython",
    "version": 2
   },
   "file_extension": ".py",
   "mimetype": "text/x-python",
   "name": "python",
   "nbconvert_exporter": "python",
   "pygments_lexer": "ipython2",
   "version": "2.7.10"
  }
 },
 "nbformat": 4,
 "nbformat_minor": 2
}
